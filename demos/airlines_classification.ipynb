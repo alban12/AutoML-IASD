{
 "cells": [
  {
   "cell_type": "markdown",
   "id": "8765b95f-8ee8-4cb7-b1bf-d02622f6cecb",
   "metadata": {},
   "source": [
    "# Airlines classification with the AutoML tool\n",
    "\n",
    "In this notebook, we will show how to perform a simple classification on the airlines dataset."
   ]
  },
  {
   "cell_type": "markdown",
   "id": "5163780b-f4e0-4faf-8c6a-fe33b74cfbe8",
   "metadata": {},
   "source": [
    "### Importing the tool and libraries"
   ]
  },
  {
   "cell_type": "code",
   "execution_count": 7,
   "id": "277d6c22-8787-4907-a707-8ca1c0465f35",
   "metadata": {},
   "outputs": [],
   "source": [
    "from automl_iasd.IASDAutoML import IASDAutoML\n",
    "from pyspark.sql import SparkSession"
   ]
  },
  {
   "cell_type": "code",
   "execution_count": 8,
   "id": "f92b7914-da94-4a32-9c76-44f4cfd40841",
   "metadata": {},
   "outputs": [
    {
     "name": "stderr",
     "output_type": "stream",
     "text": [
      "WARNING: An illegal reflective access operation has occurred\n",
      "WARNING: Illegal reflective access by org.apache.spark.unsafe.Platform (file:/usr/local/Cellar/apache-spark/3.1.2/libexec/jars/spark-unsafe_2.12-3.1.2.jar) to constructor java.nio.DirectByteBuffer(long,int)\n",
      "WARNING: Please consider reporting this to the maintainers of org.apache.spark.unsafe.Platform\n",
      "WARNING: Use --illegal-access=warn to enable warnings of further illegal reflective access operations\n",
      "WARNING: All illegal access operations will be denied in a future release\n",
      "21/10/26 20:04:50 WARN NativeCodeLoader: Unable to load native-hadoop library for your platform... using builtin-java classes where applicable\n",
      "Using Spark's default log4j profile: org/apache/spark/log4j-defaults.properties\n",
      "Setting default log level to \"WARN\".\n",
      "To adjust logging level use sc.setLogLevel(newLevel). For SparkR, use setLogLevel(newLevel).\n"
     ]
    }
   ],
   "source": [
    "spark = SparkSession \\\n",
    ".builder \\\n",
    ".appName(\"IASDAutoML\") \\\n",
    ".config(\"spark.driver.memory\", \"8g\") \\\n",
    ".getOrCreate()"
   ]
  },
  {
   "cell_type": "markdown",
   "id": "a65fc717-f74a-4218-aa41-abf1db8366a5",
   "metadata": {},
   "source": [
    "### Loading the dataset\n",
    "\n",
    "We will now import the dataset that is located in the `datasets` folder."
   ]
  },
  {
   "cell_type": "code",
   "execution_count": 9,
   "id": "58731eae-feb9-4ce8-a3d7-23e5b57ef3f2",
   "metadata": {},
   "outputs": [],
   "source": [
    "spark = dataframe = spark.read.parquet(f\"../datasets/airlines.parquet/\",inferSchema=True, header=True)"
   ]
  },
  {
   "cell_type": "markdown",
   "id": "ba344e2b-4ed7-426f-92c3-b507f229a0c4",
   "metadata": {},
   "source": [
    "Now we will use the tool to automatically search for the best model with the best set of features. <br> \n",
    "We need to provide : \n",
    "* the name of the label column : `Delay`\n",
    "* the type of task to perform : `Classification`\n",
    "* the budget allocated to the search : 2"
   ]
  },
  {
   "cell_type": "code",
   "execution_count": null,
   "id": "de7c7618-48e1-4a21-a4c8-5adf9e4e91e7",
   "metadata": {},
   "outputs": [],
   "source": [
    "label_column_name = \"Delay\"\n"
   ]
  }
 ],
 "metadata": {
  "kernelspec": {
   "display_name": "Python 3 (ipykernel)",
   "language": "python",
   "name": "python3"
  },
  "language_info": {
   "codemirror_mode": {
    "name": "ipython",
    "version": 3
   },
   "file_extension": ".py",
   "mimetype": "text/x-python",
   "name": "python",
   "nbconvert_exporter": "python",
   "pygments_lexer": "ipython3",
   "version": "3.9.7"
  }
 },
 "nbformat": 4,
 "nbformat_minor": 5
}

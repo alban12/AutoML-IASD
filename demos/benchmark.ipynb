{
 "cells": [
  {
   "cell_type": "markdown",
   "id": "8765b95f-8ee8-4cb7-b1bf-d02622f6cecb",
   "metadata": {},
   "source": [
    "# Benchmark of the AutoML tool\n",
    "\n",
    "In this notebook, we will show the benchmark of the different metrics"
   ]
  },
  {
   "cell_type": "markdown",
   "id": "5163780b-f4e0-4faf-8c6a-fe33b74cfbe8",
   "metadata": {},
   "source": [
    "### Importing the tool and libraries"
   ]
  },
  {
   "cell_type": "code",
   "execution_count": 1,
   "id": "277d6c22-8787-4907-a707-8ca1c0465f35",
   "metadata": {},
   "outputs": [],
   "source": [
    "from automl_iasd.IASDAutoML import IASDAutoML\n",
    "from automl_iasd.feature_engineering.selection import nrpa_feature_selector, snrpa_feature_selector\n",
    "from pyspark.sql import SparkSession\n",
    "import seaborn as sns \n",
    "import matplotlib.pyplot as plt\n",
    "from timeit import default_timer as timer\n",
    "from pyspark.ml.classification import LogisticRegression\n",
    "from pyspark.ml.classification import DecisionTreeClassifier\n",
    "from pyspark.ml.classification import RandomForestClassifier\n",
    "from automl_iasd.feature_engineering.util import get_max_count_distinct\n",
    "from pyspark.ml.classification import NaiveBayes\n",
    "from pyspark.ml.classification import LinearSVC\n",
    "from pyspark.ml.classification import MultilayerPerceptronClassifier\n",
    "import pandas as pd\n",
    "import numpy as np"
   ]
  },
  {
   "cell_type": "code",
   "execution_count": 3,
   "id": "f92b7914-da94-4a32-9c76-44f4cfd40841",
   "metadata": {},
   "outputs": [],
   "source": [
    "spark = SparkSession \\\n",
    ".builder \\\n",
    ".appName(\"IASDAutoML\") \\\n",
    ".config(\"spark.driver.memory\", \"12g\") \\\n",
    ".getOrCreate()"
   ]
  },
  {
   "cell_type": "markdown",
   "id": "a65fc717-f74a-4218-aa41-abf1db8366a5",
   "metadata": {},
   "source": [
    "### Loading the datasets \n",
    "\n",
    "We will perform the benchmark on 8 datasets, we will start by import them. They are all present in the `datasets` folder. \n",
    "Those dataframes presents some specificities that will help us to see how good the tool can handle them."
   ]
  },
  {
   "cell_type": "code",
   "execution_count": 4,
   "id": "58731eae-feb9-4ce8-a3d7-23e5b57ef3f2",
   "metadata": {},
   "outputs": [
    {
     "name": "stderr",
     "output_type": "stream",
     "text": [
      "                                                                                \r"
     ]
    }
   ],
   "source": [
    "airlines_dataframe = spark.read.parquet(f\"../datasets/airlines.parquet/\",inferSchema=True, header=True)\n",
    "adult_dataframe = spark.read.parquet(f\"../datasets/adult.parquet/\",inferSchema=True, header=True)\n",
    "seismic_bump_dataframe = spark.read.parquet(f\"../datasets/seismic-bumps.parquet/\",inferSchema=True, header=True)\n",
    "spect_dataframe = spark.read.parquet(f\"../datasets/spect.parquet/\",inferSchema=True, header=True)"
   ]
  },
  {
   "cell_type": "markdown",
   "id": "57d81ed0-4a5d-4b1c-9d97-5d5257bd0674",
   "metadata": {},
   "source": [
    "### Benchmarking the feature selection process\n",
    "\n",
    "In the feature selection process, we use the monte-carlo algorithm : NRPA and SNRPA<br>\n",
    "They both have different hyperparameters that we will highlight<br> \n",
    "We will start by applying all the transformations to have the right dataframe"
   ]
  },
  {
   "cell_type": "markdown",
   "id": "ba344e2b-4ed7-426f-92c3-b507f229a0c4",
   "metadata": {},
   "source": [
    "### Evaluating different search levels \n",
    "In this part we will evaluate the time taken and the average score (over 3 run for 4 differents search level [0,1,2,3]). We will set alpha as 1.0 and the number of iteratinos as 100. We will evaluate first NRPA and SNRPA after."
   ]
  },
  {
   "cell_type": "code",
   "execution_count": 5,
   "id": "7728654d-934b-4d4a-9987-5ece44395059",
   "metadata": {},
   "outputs": [],
   "source": [
    "def average(lst):\n",
    "    return sum(lst) / len(lst)"
   ]
  },
  {
   "cell_type": "code",
   "execution_count": 24,
   "id": "576a004e-7c2c-4bfc-bf69-4cfcb4dba6e5",
   "metadata": {},
   "outputs": [
    {
     "name": "stdout",
     "output_type": "stream",
     "text": [
      "-------------------------------------------------------------------------------\n",
      "---------------Starting the generation of the generated dataframe--------------\n",
      "-------------------------------------------------------------------------------\n",
      "The initial dataframe is the one below :\n"
     ]
    },
    {
     "name": "stderr",
     "output_type": "stream",
     "text": [
      "INFO:root:AutoFE - Splitting dataset ... \n",
      "INFO:root:AutoFE : Data preprocessing - Performing eventual missing values imputation ... \n"
     ]
    },
    {
     "name": "stdout",
     "output_type": "stream",
     "text": [
      "+-------+------+-----------+---------+---------+------+------+-----+\n",
      "|Airline|Flight|AirportFrom|AirportTo|DayOfWeek|  Time|Length|Delay|\n",
      "+-------+------+-----------+---------+---------+------+------+-----+\n",
      "|     MQ|2794.0|        GPT|      DFW|      2.0|1020.0| 110.0|  0.0|\n",
      "|     MQ|3023.0|        LAX|      SAN|      2.0|1020.0|  45.0|  0.0|\n",
      "|     MQ|3082.0|        SAN|      LAX|      2.0|1020.0|  45.0|  0.0|\n",
      "|     MQ|3364.0|        TLH|      DFW|      2.0|1020.0| 150.0|  0.0|\n",
      "|     MQ|3375.0|        DFW|      FSM|      2.0|1020.0|  60.0|  0.0|\n",
      "|     MQ|3995.0|        DAY|      ORD|      2.0|1020.0|  80.0|  0.0|\n",
      "|     MQ|4136.0|        JFK|      IND|      2.0|1020.0| 145.0|  0.0|\n",
      "|     MQ|4329.0|        JFK|      CVG|      2.0|1020.0| 145.0|  0.0|\n",
      "|     MQ|4589.0|        MSP|      LGA|      2.0|1020.0| 165.0|  1.0|\n",
      "|     MQ|4661.0|        LGA|      ATL|      2.0|1020.0| 160.0|  0.0|\n",
      "|     OH|6350.0|        DSM|      MSP|      2.0|1020.0|  66.0|  1.0|\n",
      "|     OH|6544.0|        JFK|      BUF|      2.0|1020.0| 115.0|  1.0|\n",
      "|     OH|6606.0|        CVG|      DTW|      2.0|1020.0|  85.0|  1.0|\n",
      "|     OO|4485.0|        FAR|      MSP|      2.0|1020.0|  66.0|  0.0|\n",
      "|     OO|4494.0|        BIL|      SLC|      2.0|1020.0|  79.0|  0.0|\n",
      "|     OO|7779.0|        SLC|      SGU|      2.0|1020.0|  81.0|  1.0|\n",
      "|     UA| 461.0|        IAD|      LAS|      2.0|1020.0| 325.0|  1.0|\n",
      "|     UA| 690.0|        ORD|      LGA|      2.0|1020.0| 136.0|  1.0|\n",
      "|     UA| 941.0|        ORD|      DEN|      2.0|1020.0| 159.0|  1.0|\n",
      "|     UA| 949.0|        ORD|      PDX|      2.0|1020.0| 277.0|  0.0|\n",
      "+-------+------+-----------+---------+---------+------+------+-----+\n",
      "only showing top 20 rows\n",
      "\n"
     ]
    },
    {
     "name": "stderr",
     "output_type": "stream",
     "text": [
      "INFO:root:AutoFE : Data preprocessing - Encoding categorical features ...       \n",
      "INFO:root:AutoFE : Feature generation - Applying unary operators ... \n",
      "21/10/28 12:11:39 WARN QuantileDiscretizer: Some quantiles were identical. Bucketing to 8 buckets as a result.\n",
      "INFO:root:AutoFE : Feature generation - Applying binary and group by then operators ... \n",
      "INFO:root:AutoFE : Feature generation - Creating feature column ... \n",
      "INFO:root:AutoFE : Data Preprocessing - Applying normalizer and standardizer ... ]\n",
      "                                                                                ]0]\r"
     ]
    },
    {
     "name": "stdout",
     "output_type": "stream",
     "text": [
      "AutoFE : Feature selection - Selecting the best subset of features for MultilayerPerceptronClassifier... \n"
     ]
    },
    {
     "name": "stderr",
     "output_type": "stream",
     "text": [
      "                                                                                0]\r"
     ]
    },
    {
     "name": "stdout",
     "output_type": "stream",
     "text": [
      "0.5031392052664682\n",
      "[0, 1, 4, 5, 6, 7, 14, 18, 19, 22]\n"
     ]
    },
    {
     "name": "stderr",
     "output_type": "stream",
     "text": [
      "                                                                                ]\r"
     ]
    },
    {
     "name": "stdout",
     "output_type": "stream",
     "text": [
      "110.49358211199979\n"
     ]
    },
    {
     "name": "stderr",
     "output_type": "stream",
     "text": [
      "                                                                                0]\r"
     ]
    },
    {
     "name": "stdout",
     "output_type": "stream",
     "text": [
      "0.5251163774698129\n",
      "[0, 4, 6, 7, 8, 10, 11, 14, 15, 16, 17, 22, 23]\n"
     ]
    },
    {
     "name": "stderr",
     "output_type": "stream",
     "text": [
      "                                                                                ]\r"
     ]
    },
    {
     "name": "stdout",
     "output_type": "stream",
     "text": [
      "102.91035954500012\n"
     ]
    },
    {
     "name": "stderr",
     "output_type": "stream",
     "text": [
      "                                                                                ]\r"
     ]
    },
    {
     "name": "stdout",
     "output_type": "stream",
     "text": [
      "0.6079289874332492\n",
      "[4, 10, 13, 16, 18, 22, 23]\n"
     ]
    },
    {
     "name": "stderr",
     "output_type": "stream",
     "text": [
      "                                                                                ]\r"
     ]
    },
    {
     "name": "stdout",
     "output_type": "stream",
     "text": [
      "84.11847223799987\n"
     ]
    },
    {
     "name": "stderr",
     "output_type": "stream",
     "text": [
      "                                                                                ]0]\r"
     ]
    },
    {
     "name": "stdout",
     "output_type": "stream",
     "text": [
      "0.5795419081980614\n",
      "[1, 2, 3, 4, 5, 6, 7, 12, 13, 14, 16, 20, 22]\n"
     ]
    },
    {
     "name": "stderr",
     "output_type": "stream",
     "text": [
      "                                                                                00]\r"
     ]
    },
    {
     "name": "stdout",
     "output_type": "stream",
     "text": [
      "96.98093699699984\n"
     ]
    },
    {
     "name": "stderr",
     "output_type": "stream",
     "text": [
      "                                                                                00]\r"
     ]
    },
    {
     "name": "stdout",
     "output_type": "stream",
     "text": [
      "0.5075169353955586\n",
      "[5, 6, 7, 11, 12, 13, 15, 16, 17, 19, 23]\n"
     ]
    },
    {
     "name": "stderr",
     "output_type": "stream",
     "text": [
      "                                                                                00]\r"
     ]
    },
    {
     "name": "stdout",
     "output_type": "stream",
     "text": [
      "92.83816427900001\n"
     ]
    },
    {
     "name": "stderr",
     "output_type": "stream",
     "text": [
      "                                                                                0]]]\r"
     ]
    },
    {
     "name": "stdout",
     "output_type": "stream",
     "text": [
      "0.5496283038141911\n",
      "[0, 2, 3, 4, 5, 7, 9, 10, 12, 13, 14, 15, 16, 17, 22, 23]\n"
     ]
    },
    {
     "name": "stderr",
     "output_type": "stream",
     "text": [
      "                                                                                0]]\r"
     ]
    },
    {
     "name": "stdout",
     "output_type": "stream",
     "text": [
      "96.47692815799974\n"
     ]
    },
    {
     "name": "stderr",
     "output_type": "stream",
     "text": [
      "                                                                                00]]\r"
     ]
    },
    {
     "name": "stdout",
     "output_type": "stream",
     "text": [
      "0.5177007392851973\n",
      "[0, 3, 4, 5, 8, 9, 11, 12, 14, 16, 17, 19, 23]\n"
     ]
    },
    {
     "name": "stderr",
     "output_type": "stream",
     "text": [
      "                                                                                00]\r"
     ]
    },
    {
     "name": "stdout",
     "output_type": "stream",
     "text": [
      "94.76296386700005\n"
     ]
    },
    {
     "name": "stderr",
     "output_type": "stream",
     "text": [
      "                                                                                00]]\r"
     ]
    },
    {
     "name": "stdout",
     "output_type": "stream",
     "text": [
      "0.47289422826072985\n",
      "[0, 3, 6, 8, 12, 15, 17, 19, 21, 23]\n"
     ]
    },
    {
     "name": "stderr",
     "output_type": "stream",
     "text": [
      "                                                                                00]\r"
     ]
    },
    {
     "name": "stdout",
     "output_type": "stream",
     "text": [
      "97.54005082499998\n"
     ]
    },
    {
     "name": "stderr",
     "output_type": "stream",
     "text": [
      "                                                                                 200]]\r"
     ]
    },
    {
     "name": "stdout",
     "output_type": "stream",
     "text": [
      "0.4273379758083435\n",
      "[2, 5, 6, 9, 11, 13, 14, 16, 19, 20, 22]\n"
     ]
    },
    {
     "name": "stderr",
     "output_type": "stream",
     "text": [
      "                                                                                00]\r"
     ]
    },
    {
     "name": "stdout",
     "output_type": "stream",
     "text": [
      "94.544114541\n",
      "AutoFE : Feature selection - Selecting the best subset of features for DecisionTreeClassifier... \n",
      "ok\n"
     ]
    },
    {
     "name": "stderr",
     "output_type": "stream",
     "text": [
      "                                                                                00]]0]\r"
     ]
    },
    {
     "name": "stdout",
     "output_type": "stream",
     "text": [
      "0.5\n",
      "[0, 1, 8, 10, 12, 15, 20, 21, 23]\n"
     ]
    },
    {
     "name": "stderr",
     "output_type": "stream",
     "text": [
      "                                                                                00]\r"
     ]
    },
    {
     "name": "stdout",
     "output_type": "stream",
     "text": [
      "129.03708392499993\n"
     ]
    },
    {
     "name": "stderr",
     "output_type": "stream",
     "text": [
      "                                                                                 200]]\r"
     ]
    },
    {
     "name": "stdout",
     "output_type": "stream",
     "text": [
      "0.4092679908253846\n",
      "[3, 4, 5, 8, 10, 11, 12, 14, 15, 20, 21, 22]\n"
     ]
    },
    {
     "name": "stderr",
     "output_type": "stream",
     "text": [
      "                                                                                / 200]\r"
     ]
    },
    {
     "name": "stdout",
     "output_type": "stream",
     "text": [
      "119.40461356900005\n"
     ]
    },
    {
     "name": "stderr",
     "output_type": "stream",
     "text": [
      "                                                                                200]]\r"
     ]
    },
    {
     "name": "stdout",
     "output_type": "stream",
     "text": [
      "0.4092679908253846\n",
      "[1, 3, 4, 6, 9, 11, 14, 15, 20, 23]\n"
     ]
    },
    {
     "name": "stderr",
     "output_type": "stream",
     "text": [
      "                                                                                00]\r"
     ]
    },
    {
     "name": "stdout",
     "output_type": "stream",
     "text": [
      "249.2880355970001\n"
     ]
    },
    {
     "name": "stderr",
     "output_type": "stream",
     "text": [
      "                                                                                200]\r"
     ]
    },
    {
     "name": "stdout",
     "output_type": "stream",
     "text": [
      "0.4092679908253846\n",
      "[2, 5, 7, 12, 16, 18, 19, 20, 23]\n"
     ]
    },
    {
     "name": "stderr",
     "output_type": "stream",
     "text": [
      "                                                                                 200]\r"
     ]
    },
    {
     "name": "stdout",
     "output_type": "stream",
     "text": [
      "427.8726203340002\n"
     ]
    },
    {
     "name": "stderr",
     "output_type": "stream",
     "text": [
      "                                                                                 200]\r"
     ]
    },
    {
     "name": "stdout",
     "output_type": "stream",
     "text": [
      "0.4092679908253846\n",
      "[2, 3, 4, 5, 7, 8, 9, 10, 11, 12, 15, 17, 18]\n"
     ]
    },
    {
     "name": "stderr",
     "output_type": "stream",
     "text": [
      "                                                                                0]\r"
     ]
    },
    {
     "name": "stdout",
     "output_type": "stream",
     "text": [
      "419.4448558989998\n"
     ]
    },
    {
     "name": "stderr",
     "output_type": "stream",
     "text": [
      "                                                                                00]]0]\r"
     ]
    },
    {
     "name": "stdout",
     "output_type": "stream",
     "text": [
      "0.40158545027089704\n",
      "[4, 5, 9, 12, 14, 16, 17, 18, 19, 20, 21, 22, 23]\n"
     ]
    },
    {
     "name": "stderr",
     "output_type": "stream",
     "text": [
      "                                                                                200]\r"
     ]
    },
    {
     "name": "stdout",
     "output_type": "stream",
     "text": [
      "270.36074650200044\n"
     ]
    },
    {
     "name": "stderr",
     "output_type": "stream",
     "text": [
      "                                                                                / 200]\r"
     ]
    },
    {
     "name": "stdout",
     "output_type": "stream",
     "text": [
      "0.40158545027089704\n",
      "[1, 3, 7, 9, 12, 16, 18, 21]\n"
     ]
    },
    {
     "name": "stderr",
     "output_type": "stream",
     "text": [
      "                                                                                00]\r"
     ]
    },
    {
     "name": "stdout",
     "output_type": "stream",
     "text": [
      "117.09572062000007\n"
     ]
    },
    {
     "name": "stderr",
     "output_type": "stream",
     "text": [
      "                                                                                00]]\r"
     ]
    },
    {
     "name": "stdout",
     "output_type": "stream",
     "text": [
      "0.4092679908253846\n",
      "[0, 1, 5, 7, 10, 11, 12, 13, 14, 18, 20, 21, 22]\n"
     ]
    },
    {
     "name": "stderr",
     "output_type": "stream",
     "text": [
      "                                                                                00]\r"
     ]
    },
    {
     "name": "stdout",
     "output_type": "stream",
     "text": [
      "130.2279690109999\n"
     ]
    },
    {
     "name": "stderr",
     "output_type": "stream",
     "text": [
      "                                                                                00]]\r"
     ]
    },
    {
     "name": "stdout",
     "output_type": "stream",
     "text": [
      "0.4092679908253846\n",
      "[2, 3, 4, 6, 8, 9, 10, 12, 13, 14, 16, 17, 19, 20, 21, 23]\n"
     ]
    },
    {
     "name": "stderr",
     "output_type": "stream",
     "text": [
      "                                                                                00]]\r"
     ]
    },
    {
     "name": "stdout",
     "output_type": "stream",
     "text": [
      "130.50966219300062\n",
      "AutoFE : Feature selection - Selecting the best subset of features for LogisticRegression... \n"
     ]
    },
    {
     "name": "stderr",
     "output_type": "stream",
     "text": [
      "                                                                                0]200]\r"
     ]
    },
    {
     "name": "stdout",
     "output_type": "stream",
     "text": [
      "0.6606799259473908\n",
      "[0, 1, 2, 4, 7, 8, 9, 10, 12, 17, 18, 19, 21, 23]\n"
     ]
    },
    {
     "name": "stderr",
     "output_type": "stream",
     "text": [
      "                                                                                 200]\r"
     ]
    },
    {
     "name": "stdout",
     "output_type": "stream",
     "text": [
      "211.19870296099998\n"
     ]
    },
    {
     "name": "stderr",
     "output_type": "stream",
     "text": [
      "                                                                                200]]]\r"
     ]
    },
    {
     "name": "stdout",
     "output_type": "stream",
     "text": [
      "0.550490224415267\n",
      "[0, 3, 5, 6, 9, 13, 18, 19, 22]\n"
     ]
    },
    {
     "name": "stderr",
     "output_type": "stream",
     "text": [
      "                                                                                00]\r"
     ]
    },
    {
     "name": "stdout",
     "output_type": "stream",
     "text": [
      "102.40378129200053\n"
     ]
    },
    {
     "name": "stderr",
     "output_type": "stream",
     "text": [
      "                                                                                00]\r"
     ]
    },
    {
     "name": "stdout",
     "output_type": "stream",
     "text": [
      "0.6284444817618138\n",
      "[0, 2, 5, 8, 9, 11, 15, 17, 18, 20, 22, 23]\n"
     ]
    },
    {
     "name": "stderr",
     "output_type": "stream",
     "text": [
      "                                                                                00]\r"
     ]
    },
    {
     "name": "stdout",
     "output_type": "stream",
     "text": [
      "97.98072516699995\n"
     ]
    },
    {
     "name": "stderr",
     "output_type": "stream",
     "text": [
      "                                                                                00]]\r"
     ]
    },
    {
     "name": "stdout",
     "output_type": "stream",
     "text": [
      "0.6524817316619218\n",
      "[0, 1, 2, 5, 7, 10, 11, 15, 18]\n"
     ]
    },
    {
     "name": "stderr",
     "output_type": "stream",
     "text": [
      "                                                                                0]]\r"
     ]
    },
    {
     "name": "stdout",
     "output_type": "stream",
     "text": [
      "127.30640050700003\n"
     ]
    },
    {
     "name": "stderr",
     "output_type": "stream",
     "text": [
      "                                                                                00]\r"
     ]
    },
    {
     "name": "stdout",
     "output_type": "stream",
     "text": [
      "0.644579156999268\n",
      "[3, 4, 7, 9, 12, 14, 15, 16, 20, 21, 23]\n"
     ]
    },
    {
     "name": "stderr",
     "output_type": "stream",
     "text": [
      "                                                                                00]\r"
     ]
    },
    {
     "name": "stdout",
     "output_type": "stream",
     "text": [
      "98.25608625399946\n"
     ]
    },
    {
     "name": "stderr",
     "output_type": "stream",
     "text": [
      "                                                                                00]\r"
     ]
    },
    {
     "name": "stdout",
     "output_type": "stream",
     "text": [
      "0.6273574466098519\n",
      "[0, 1, 4, 6, 9, 12, 13, 14, 16, 18, 20]\n"
     ]
    },
    {
     "name": "stderr",
     "output_type": "stream",
     "text": [
      "                                                                                00]\r"
     ]
    },
    {
     "name": "stdout",
     "output_type": "stream",
     "text": [
      "133.11871171000075\n"
     ]
    },
    {
     "name": "stderr",
     "output_type": "stream",
     "text": [
      "                                                                                 200]\r"
     ]
    },
    {
     "name": "stdout",
     "output_type": "stream",
     "text": [
      "0.621543561081358\n",
      "[0, 1, 4, 6, 18, 19, 20, 22, 23]\n"
     ]
    },
    {
     "name": "stderr",
     "output_type": "stream",
     "text": [
      "                                                                                0]]\r"
     ]
    },
    {
     "name": "stdout",
     "output_type": "stream",
     "text": [
      "125.42455317400072\n"
     ]
    },
    {
     "name": "stderr",
     "output_type": "stream",
     "text": [
      "                                                                                00]]0]\r"
     ]
    },
    {
     "name": "stdout",
     "output_type": "stream",
     "text": [
      "0.6266451656759703\n",
      "[0, 1, 4, 7, 8, 9, 12, 17, 19]\n"
     ]
    },
    {
     "name": "stderr",
     "output_type": "stream",
     "text": [
      "                                                                                00]\r"
     ]
    },
    {
     "name": "stdout",
     "output_type": "stream",
     "text": [
      "105.73699687499993\n"
     ]
    },
    {
     "name": "stderr",
     "output_type": "stream",
     "text": [
      "                                                                                200]\r"
     ]
    },
    {
     "name": "stdout",
     "output_type": "stream",
     "text": [
      "0.6693474448428437\n",
      "[1, 2, 3, 4, 6, 7, 8, 9, 12, 15, 18, 20, 23]\n"
     ]
    },
    {
     "name": "stderr",
     "output_type": "stream",
     "text": [
      "                                                                                00]\r"
     ]
    },
    {
     "name": "stdout",
     "output_type": "stream",
     "text": [
      "127.43482210599996\n",
      "AutoFE : Feature selection - Selecting the best subset of features for RandomForestClassifier... \n",
      "ok\n"
     ]
    },
    {
     "name": "stderr",
     "output_type": "stream",
     "text": [
      "                                                                                 200]\r"
     ]
    },
    {
     "name": "stdout",
     "output_type": "stream",
     "text": [
      "0.643929915461527\n",
      "[2, 3, 5, 6, 7, 10, 11, 12, 13, 18, 19, 23]\n"
     ]
    },
    {
     "name": "stderr",
     "output_type": "stream",
     "text": [
      "                                                                                00]\r"
     ]
    },
    {
     "name": "stdout",
     "output_type": "stream",
     "text": [
      "135.5528650489996\n"
     ]
    },
    {
     "name": "stderr",
     "output_type": "stream",
     "text": [
      "                                                                                200]]\r"
     ]
    },
    {
     "name": "stdout",
     "output_type": "stream",
     "text": [
      "0.6173655293989482\n",
      "[1, 4, 5, 6, 8, 10, 15, 20, 21]\n"
     ]
    },
    {
     "name": "stderr",
     "output_type": "stream",
     "text": [
      "                                                                                / 200]\r"
     ]
    },
    {
     "name": "stdout",
     "output_type": "stream",
     "text": [
      "129.08746161999989\n"
     ]
    },
    {
     "name": "stderr",
     "output_type": "stream",
     "text": [
      "                                                                                00]00]\r"
     ]
    },
    {
     "name": "stdout",
     "output_type": "stream",
     "text": [
      "0.6080929997409926\n",
      "[0, 1, 3, 4, 6, 7, 8, 9, 12, 17, 21, 22, 23]\n"
     ]
    },
    {
     "name": "stderr",
     "output_type": "stream",
     "text": [
      "                                                                                00]]\r"
     ]
    },
    {
     "name": "stdout",
     "output_type": "stream",
     "text": [
      "133.20721335500002\n"
     ]
    },
    {
     "name": "stderr",
     "output_type": "stream",
     "text": [
      "                                                                                0]]]\r"
     ]
    },
    {
     "name": "stdout",
     "output_type": "stream",
     "text": [
      "0.5975336165930336\n",
      "[0, 3, 4, 5, 7, 10, 12, 17, 22]\n"
     ]
    },
    {
     "name": "stderr",
     "output_type": "stream",
     "text": [
      "                                                                                00]\r"
     ]
    },
    {
     "name": "stdout",
     "output_type": "stream",
     "text": [
      "142.2178511809998\n"
     ]
    },
    {
     "name": "stderr",
     "output_type": "stream",
     "text": [
      "                                                                                / 200]\r"
     ]
    },
    {
     "name": "stdout",
     "output_type": "stream",
     "text": [
      "0.6207039747838464\n",
      "[0, 1, 3, 4, 7, 8, 9, 14, 16, 19, 20, 23]\n"
     ]
    },
    {
     "name": "stderr",
     "output_type": "stream",
     "text": [
      "                                                                                / 200]\r"
     ]
    },
    {
     "name": "stdout",
     "output_type": "stream",
     "text": [
      "259.88003542799925\n"
     ]
    },
    {
     "name": "stderr",
     "output_type": "stream",
     "text": [
      "                                                                                00]]\r"
     ]
    },
    {
     "name": "stdout",
     "output_type": "stream",
     "text": [
      "0.6470227854951308\n",
      "[0, 1, 2, 4, 6, 15, 16, 17, 18, 20, 21, 22, 23]\n"
     ]
    },
    {
     "name": "stderr",
     "output_type": "stream",
     "text": [
      "                                                                                200]\r"
     ]
    },
    {
     "name": "stdout",
     "output_type": "stream",
     "text": [
      "146.0534633010002\n"
     ]
    },
    {
     "name": "stderr",
     "output_type": "stream",
     "text": [
      "                                                                                0]]]\r"
     ]
    },
    {
     "name": "stdout",
     "output_type": "stream",
     "text": [
      "0.6254018541106359\n",
      "[3, 5, 6, 7, 8, 10, 11, 12, 13, 16]\n"
     ]
    },
    {
     "name": "stderr",
     "output_type": "stream",
     "text": [
      "                                                                                / 200]\r"
     ]
    },
    {
     "name": "stdout",
     "output_type": "stream",
     "text": [
      "204.97160153200002\n"
     ]
    },
    {
     "name": "stderr",
     "output_type": "stream",
     "text": [
      "                                                                                 200]\r"
     ]
    },
    {
     "name": "stdout",
     "output_type": "stream",
     "text": [
      "0.6081202200805336\n",
      "[0, 1, 4, 5, 6, 7, 9, 10, 11, 12, 19, 20]\n"
     ]
    },
    {
     "name": "stderr",
     "output_type": "stream",
     "text": [
      "                                                                                0]]\r"
     ]
    },
    {
     "name": "stdout",
     "output_type": "stream",
     "text": [
      "131.4036805630003\n"
     ]
    },
    {
     "name": "stderr",
     "output_type": "stream",
     "text": [
      "                                                                                00]00]]\r"
     ]
    },
    {
     "name": "stdout",
     "output_type": "stream",
     "text": [
      "0.6561508196401904\n",
      "[2, 7, 10, 11, 15, 16, 17, 19, 22, 23]\n"
     ]
    },
    {
     "name": "stderr",
     "output_type": "stream",
     "text": [
      "                                                                                / 200]\r"
     ]
    },
    {
     "name": "stdout",
     "output_type": "stream",
     "text": [
      "156.85335123200093\n",
      "AutoFE : Feature selection - Selecting the best subset of features for NaiveBayes... \n"
     ]
    },
    {
     "name": "stderr",
     "output_type": "stream",
     "text": [
      "                                                                                00]00]\r"
     ]
    },
    {
     "name": "stdout",
     "output_type": "stream",
     "text": [
      "0.4747514873720999\n",
      "[0, 1, 2, 5, 7, 8, 9, 19, 20]\n"
     ]
    },
    {
     "name": "stderr",
     "output_type": "stream",
     "text": [
      "                                                                                00]\r"
     ]
    },
    {
     "name": "stdout",
     "output_type": "stream",
     "text": [
      "86.48133495900038\n"
     ]
    },
    {
     "name": "stderr",
     "output_type": "stream",
     "text": [
      "                                                                                00]0]\r"
     ]
    },
    {
     "name": "stdout",
     "output_type": "stream",
     "text": [
      "0.5247756065258882\n",
      "[1, 2, 4, 5, 6, 7, 9, 13, 14, 15, 19, 20, 22]\n"
     ]
    },
    {
     "name": "stderr",
     "output_type": "stream",
     "text": [
      "                                                                                00]\r"
     ]
    },
    {
     "name": "stdout",
     "output_type": "stream",
     "text": [
      "110.41753349900137\n"
     ]
    },
    {
     "name": "stderr",
     "output_type": "stream",
     "text": [
      "                                                                                00]\r"
     ]
    },
    {
     "name": "stdout",
     "output_type": "stream",
     "text": [
      "0.4744435520913578\n",
      "[0, 2, 7, 8, 12, 13, 14, 15, 16, 17, 18, 20, 21, 22]\n"
     ]
    },
    {
     "name": "stderr",
     "output_type": "stream",
     "text": [
      "                                                                                00]\r"
     ]
    },
    {
     "name": "stdout",
     "output_type": "stream",
     "text": [
      "87.95072035200064\n"
     ]
    },
    {
     "name": "stderr",
     "output_type": "stream",
     "text": [
      "                                                                                 200]\r"
     ]
    },
    {
     "name": "stdout",
     "output_type": "stream",
     "text": [
      "0.5320275527509949\n",
      "[0, 1, 3, 4, 6, 8, 10, 14, 16, 17, 19, 22]\n"
     ]
    },
    {
     "name": "stderr",
     "output_type": "stream",
     "text": [
      "                                                                                00]\r"
     ]
    },
    {
     "name": "stdout",
     "output_type": "stream",
     "text": [
      "98.9988906790004\n"
     ]
    },
    {
     "name": "stderr",
     "output_type": "stream",
     "text": [
      "                                                                                200]\r"
     ]
    },
    {
     "name": "stdout",
     "output_type": "stream",
     "text": [
      "0.5067511662459914\n",
      "[0, 1, 3, 4, 5, 8, 9, 14, 15, 16, 17, 18, 20, 22, 23]\n"
     ]
    },
    {
     "name": "stderr",
     "output_type": "stream",
     "text": [
      "                                                                                0]]\r"
     ]
    },
    {
     "name": "stdout",
     "output_type": "stream",
     "text": [
      "105.39555473499968\n"
     ]
    },
    {
     "name": "stderr",
     "output_type": "stream",
     "text": [
      "                                                                                00]]\r"
     ]
    },
    {
     "name": "stdout",
     "output_type": "stream",
     "text": [
      "0.4961018087679949\n",
      "[2, 9, 10, 15, 18, 21, 22, 23]\n"
     ]
    },
    {
     "name": "stderr",
     "output_type": "stream",
     "text": [
      "                                                                                00]\r"
     ]
    },
    {
     "name": "stdout",
     "output_type": "stream",
     "text": [
      "75.2274405950011\n"
     ]
    },
    {
     "name": "stderr",
     "output_type": "stream",
     "text": [
      "                                                                                0]]\r"
     ]
    },
    {
     "name": "stdout",
     "output_type": "stream",
     "text": [
      "0.4895342613270387\n",
      "[0, 2, 4, 5, 6, 9, 10, 11, 13, 14, 15, 17, 18, 19, 23]\n"
     ]
    },
    {
     "name": "stderr",
     "output_type": "stream",
     "text": [
      "[Stage 22609:======================>                            (87 + 16) / 200]/ 200]\r"
     ]
    },
    {
     "ename": "KeyboardInterrupt",
     "evalue": "",
     "output_type": "error",
     "traceback": [
      "\u001b[0;31m---------------------------------------------------------------------------\u001b[0m",
      "\u001b[0;31mKeyboardInterrupt\u001b[0m                         Traceback (most recent call last)",
      "\u001b[0;32m/var/folders/7_/4xm6ckq10kj9m_jxswh0mvlr0000gn/T/ipykernel_6727/1344238957.py\u001b[0m in \u001b[0;36m<module>\u001b[0;34m\u001b[0m\n\u001b[1;32m     24\u001b[0m         \u001b[0;32mfor\u001b[0m \u001b[0mn\u001b[0m \u001b[0;32min\u001b[0m \u001b[0mrange\u001b[0m\u001b[0;34m(\u001b[0m\u001b[0mto_avg_iterations\u001b[0m\u001b[0;34m)\u001b[0m\u001b[0;34m:\u001b[0m\u001b[0;34m\u001b[0m\u001b[0;34m\u001b[0m\u001b[0m\n\u001b[1;32m     25\u001b[0m             \u001b[0mstart\u001b[0m \u001b[0;34m=\u001b[0m \u001b[0mtimer\u001b[0m\u001b[0;34m(\u001b[0m\u001b[0;34m)\u001b[0m\u001b[0;34m\u001b[0m\u001b[0;34m\u001b[0m\u001b[0m\n\u001b[0;32m---> 26\u001b[0;31m             \u001b[0mbestScore\u001b[0m\u001b[0;34m,\u001b[0m \u001b[0mfeature_selection\u001b[0m \u001b[0;34m=\u001b[0m \u001b[0mnrpa_feature_selector\u001b[0m\u001b[0;34m(\u001b[0m\u001b[0;36m0\u001b[0m\u001b[0;34m,\u001b[0m \u001b[0;36m50\u001b[0m\u001b[0;34m,\u001b[0m \u001b[0mgenerated_train_df\u001b[0m\u001b[0;34m,\u001b[0m \u001b[0mgenerated_val_df\u001b[0m\u001b[0;34m,\u001b[0m \u001b[0mlen\u001b[0m\u001b[0;34m(\u001b[0m\u001b[0mcolumns_to_featurized\u001b[0m\u001b[0;34m)\u001b[0m\u001b[0;34m,\u001b[0m \u001b[0malgorithm\u001b[0m\u001b[0;34m,\u001b[0m \u001b[0mselection_initial_uniform_policy\u001b[0m\u001b[0;34m)\u001b[0m\u001b[0;34m\u001b[0m\u001b[0;34m\u001b[0m\u001b[0m\n\u001b[0m\u001b[1;32m     27\u001b[0m             \u001b[0mfeature_selection_indices\u001b[0m \u001b[0;34m=\u001b[0m \u001b[0;34m[\u001b[0m\u001b[0mi\u001b[0m \u001b[0;32mfor\u001b[0m \u001b[0mi\u001b[0m \u001b[0;32min\u001b[0m \u001b[0mrange\u001b[0m\u001b[0;34m(\u001b[0m\u001b[0mlen\u001b[0m\u001b[0;34m(\u001b[0m\u001b[0mfeature_selection\u001b[0m\u001b[0;34m)\u001b[0m\u001b[0;34m)\u001b[0m \u001b[0;32mif\u001b[0m \u001b[0mfeature_selection\u001b[0m\u001b[0;34m[\u001b[0m\u001b[0mi\u001b[0m\u001b[0;34m]\u001b[0m\u001b[0;34m==\u001b[0m\u001b[0;34m\"Keep\"\u001b[0m\u001b[0;34m]\u001b[0m\u001b[0;34m\u001b[0m\u001b[0;34m\u001b[0m\u001b[0m\n\u001b[1;32m     28\u001b[0m             \u001b[0mscore\u001b[0m\u001b[0;34m.\u001b[0m\u001b[0mappend\u001b[0m\u001b[0;34m(\u001b[0m\u001b[0mbestScore\u001b[0m\u001b[0;34m)\u001b[0m\u001b[0;34m\u001b[0m\u001b[0;34m\u001b[0m\u001b[0m\n",
      "\u001b[0;32m~/AutoML-IASD/automl_iasd/feature_engineering/selection.py\u001b[0m in \u001b[0;36mnrpa_feature_selector\u001b[0;34m(level, iterations, train_set_dataframe, validation_set_dataframe, feature_space_size, learning_algorithm, policy)\u001b[0m\n\u001b[1;32m     36\u001b[0m         \u001b[0mroot\u001b[0m \u001b[0;34m=\u001b[0m \u001b[0mSelectionState\u001b[0m\u001b[0;34m(\u001b[0m\u001b[0mselected_features\u001b[0m\u001b[0;34m=\u001b[0m\u001b[0;34m[\u001b[0m\u001b[0;34m]\u001b[0m\u001b[0;34m,\u001b[0m \u001b[0mnot_selected_features\u001b[0m\u001b[0;34m=\u001b[0m\u001b[0;34m[\u001b[0m\u001b[0;34m]\u001b[0m\u001b[0;34m,\u001b[0m \u001b[0mto_select_features\u001b[0m\u001b[0;34m=\u001b[0m\u001b[0mlist\u001b[0m\u001b[0;34m(\u001b[0m\u001b[0mrange\u001b[0m\u001b[0;34m(\u001b[0m\u001b[0mfeature_space_size\u001b[0m\u001b[0;34m)\u001b[0m\u001b[0;34m)\u001b[0m\u001b[0;34m,\u001b[0m \u001b[0mtrain_set_dataframe\u001b[0m\u001b[0;34m=\u001b[0m\u001b[0mtrain_set_dataframe\u001b[0m\u001b[0;34m,\u001b[0m \u001b[0mvalidation_set_dataframe\u001b[0m\u001b[0;34m=\u001b[0m\u001b[0mvalidation_set_dataframe\u001b[0m\u001b[0;34m)\u001b[0m\u001b[0;34m\u001b[0m\u001b[0;34m\u001b[0m\u001b[0m\n\u001b[1;32m     37\u001b[0m         \u001b[0;32mif\u001b[0m \u001b[0mlevel\u001b[0m \u001b[0;34m==\u001b[0m \u001b[0;36m0\u001b[0m\u001b[0;34m:\u001b[0m\u001b[0;34m\u001b[0m\u001b[0;34m\u001b[0m\u001b[0m\n\u001b[0;32m---> 38\u001b[0;31m                 \u001b[0;32mreturn\u001b[0m \u001b[0mplayout\u001b[0m\u001b[0;34m(\u001b[0m\u001b[0mroot\u001b[0m\u001b[0;34m,\u001b[0m \u001b[0mpolicy\u001b[0m\u001b[0;34m,\u001b[0m \u001b[0mlearning_algorithm\u001b[0m\u001b[0;34m)\u001b[0m\u001b[0;34m\u001b[0m\u001b[0;34m\u001b[0m\u001b[0m\n\u001b[0m\u001b[1;32m     39\u001b[0m         \u001b[0mbest_score\u001b[0m \u001b[0;34m=\u001b[0m \u001b[0mfloat\u001b[0m\u001b[0;34m(\u001b[0m\u001b[0;34m'-inf'\u001b[0m\u001b[0;34m)\u001b[0m\u001b[0;34m\u001b[0m\u001b[0;34m\u001b[0m\u001b[0m\n\u001b[1;32m     40\u001b[0m         \u001b[0;32mfor\u001b[0m \u001b[0mN\u001b[0m \u001b[0;32min\u001b[0m \u001b[0mrange\u001b[0m\u001b[0;34m(\u001b[0m\u001b[0miterations\u001b[0m\u001b[0;34m)\u001b[0m\u001b[0;34m:\u001b[0m\u001b[0;34m\u001b[0m\u001b[0;34m\u001b[0m\u001b[0m\n",
      "\u001b[0;32m~/AutoML-IASD/automl_iasd/feature_engineering/selection.py\u001b[0m in \u001b[0;36mplayout\u001b[0;34m(state, policy, learning_algorithm)\u001b[0m\n\u001b[1;32m     74\u001b[0m         \u001b[0;32mwhile\u001b[0m \u001b[0;32mTrue\u001b[0m\u001b[0;34m:\u001b[0m\u001b[0;34m\u001b[0m\u001b[0;34m\u001b[0m\u001b[0m\n\u001b[1;32m     75\u001b[0m                 \u001b[0;32mif\u001b[0m \u001b[0mstate\u001b[0m\u001b[0;34m.\u001b[0m\u001b[0misTerminal\u001b[0m\u001b[0;34m(\u001b[0m\u001b[0;34m)\u001b[0m\u001b[0;34m:\u001b[0m\u001b[0;34m\u001b[0m\u001b[0;34m\u001b[0m\u001b[0m\n\u001b[0;32m---> 76\u001b[0;31m                         \u001b[0;32mreturn\u001b[0m \u001b[0mscore\u001b[0m\u001b[0;34m(\u001b[0m\u001b[0mstate\u001b[0m\u001b[0;34m,\u001b[0m \u001b[0mlearning_algorithm\u001b[0m\u001b[0;34m)\u001b[0m\u001b[0;34m,\u001b[0m \u001b[0msequence\u001b[0m\u001b[0;34m\u001b[0m\u001b[0;34m\u001b[0m\u001b[0m\n\u001b[0m\u001b[1;32m     77\u001b[0m                 \u001b[0mz\u001b[0m\u001b[0;34m=\u001b[0m\u001b[0;36m0.0\u001b[0m\u001b[0;34m\u001b[0m\u001b[0;34m\u001b[0m\u001b[0m\n\u001b[1;32m     78\u001b[0m                 \u001b[0;32mfor\u001b[0m \u001b[0mm\u001b[0m \u001b[0;32min\u001b[0m \u001b[0;34m[\u001b[0m\u001b[0;34m\"Keep\"\u001b[0m\u001b[0;34m,\u001b[0m \u001b[0;34m\"Discard\"\u001b[0m\u001b[0;34m]\u001b[0m\u001b[0;34m:\u001b[0m\u001b[0;34m\u001b[0m\u001b[0;34m\u001b[0m\u001b[0m\n",
      "\u001b[0;32m~/AutoML-IASD/automl_iasd/feature_engineering/selection.py\u001b[0m in \u001b[0;36mscore\u001b[0;34m(state, learning_algorithm)\u001b[0m\n\u001b[1;32m    148\u001b[0m         \u001b[0mprint\u001b[0m\u001b[0;34m(\u001b[0m\u001b[0mevaluator\u001b[0m\u001b[0;34m.\u001b[0m\u001b[0mevaluate\u001b[0m\u001b[0;34m(\u001b[0m\u001b[0mprediction\u001b[0m\u001b[0;34m)\u001b[0m\u001b[0;34m)\u001b[0m\u001b[0;34m\u001b[0m\u001b[0;34m\u001b[0m\u001b[0m\n\u001b[1;32m    149\u001b[0m         \u001b[0mprint\u001b[0m\u001b[0;34m(\u001b[0m\u001b[0mselected_features\u001b[0m\u001b[0;34m)\u001b[0m\u001b[0;34m\u001b[0m\u001b[0;34m\u001b[0m\u001b[0m\n\u001b[0;32m--> 150\u001b[0;31m         \u001b[0;32mreturn\u001b[0m \u001b[0mevaluator\u001b[0m\u001b[0;34m.\u001b[0m\u001b[0mevaluate\u001b[0m\u001b[0;34m(\u001b[0m\u001b[0mprediction\u001b[0m\u001b[0;34m)\u001b[0m\u001b[0;34m\u001b[0m\u001b[0;34m\u001b[0m\u001b[0m\n\u001b[0m\u001b[1;32m    151\u001b[0m \u001b[0;34m\u001b[0m\u001b[0m\n\u001b[1;32m    152\u001b[0m \u001b[0;34m\u001b[0m\u001b[0m\n",
      "\u001b[0;32m~/Library/Caches/pypoetry/virtualenvs/automl-iasd-hDSaXVei-py3.9/lib/python3.9/site-packages/pyspark/ml/evaluation.py\u001b[0m in \u001b[0;36mevaluate\u001b[0;34m(self, dataset, params)\u001b[0m\n\u001b[1;32m     82\u001b[0m                 \u001b[0;32mreturn\u001b[0m \u001b[0mself\u001b[0m\u001b[0;34m.\u001b[0m\u001b[0mcopy\u001b[0m\u001b[0;34m(\u001b[0m\u001b[0mparams\u001b[0m\u001b[0;34m)\u001b[0m\u001b[0;34m.\u001b[0m\u001b[0m_evaluate\u001b[0m\u001b[0;34m(\u001b[0m\u001b[0mdataset\u001b[0m\u001b[0;34m)\u001b[0m\u001b[0;34m\u001b[0m\u001b[0;34m\u001b[0m\u001b[0m\n\u001b[1;32m     83\u001b[0m             \u001b[0;32melse\u001b[0m\u001b[0;34m:\u001b[0m\u001b[0;34m\u001b[0m\u001b[0;34m\u001b[0m\u001b[0m\n\u001b[0;32m---> 84\u001b[0;31m                 \u001b[0;32mreturn\u001b[0m \u001b[0mself\u001b[0m\u001b[0;34m.\u001b[0m\u001b[0m_evaluate\u001b[0m\u001b[0;34m(\u001b[0m\u001b[0mdataset\u001b[0m\u001b[0;34m)\u001b[0m\u001b[0;34m\u001b[0m\u001b[0;34m\u001b[0m\u001b[0m\n\u001b[0m\u001b[1;32m     85\u001b[0m         \u001b[0;32melse\u001b[0m\u001b[0;34m:\u001b[0m\u001b[0;34m\u001b[0m\u001b[0;34m\u001b[0m\u001b[0m\n\u001b[1;32m     86\u001b[0m             \u001b[0;32mraise\u001b[0m \u001b[0mValueError\u001b[0m\u001b[0;34m(\u001b[0m\u001b[0;34m\"Params must be a param map but got %s.\"\u001b[0m \u001b[0;34m%\u001b[0m \u001b[0mtype\u001b[0m\u001b[0;34m(\u001b[0m\u001b[0mparams\u001b[0m\u001b[0;34m)\u001b[0m\u001b[0;34m)\u001b[0m\u001b[0;34m\u001b[0m\u001b[0;34m\u001b[0m\u001b[0m\n",
      "\u001b[0;32m~/Library/Caches/pypoetry/virtualenvs/automl-iasd-hDSaXVei-py3.9/lib/python3.9/site-packages/pyspark/ml/evaluation.py\u001b[0m in \u001b[0;36m_evaluate\u001b[0;34m(self, dataset)\u001b[0m\n\u001b[1;32m    118\u001b[0m         \"\"\"\n\u001b[1;32m    119\u001b[0m         \u001b[0mself\u001b[0m\u001b[0;34m.\u001b[0m\u001b[0m_transfer_params_to_java\u001b[0m\u001b[0;34m(\u001b[0m\u001b[0;34m)\u001b[0m\u001b[0;34m\u001b[0m\u001b[0;34m\u001b[0m\u001b[0m\n\u001b[0;32m--> 120\u001b[0;31m         \u001b[0;32mreturn\u001b[0m \u001b[0mself\u001b[0m\u001b[0;34m.\u001b[0m\u001b[0m_java_obj\u001b[0m\u001b[0;34m.\u001b[0m\u001b[0mevaluate\u001b[0m\u001b[0;34m(\u001b[0m\u001b[0mdataset\u001b[0m\u001b[0;34m.\u001b[0m\u001b[0m_jdf\u001b[0m\u001b[0;34m)\u001b[0m\u001b[0;34m\u001b[0m\u001b[0;34m\u001b[0m\u001b[0m\n\u001b[0m\u001b[1;32m    121\u001b[0m \u001b[0;34m\u001b[0m\u001b[0m\n\u001b[1;32m    122\u001b[0m     \u001b[0;32mdef\u001b[0m \u001b[0misLargerBetter\u001b[0m\u001b[0;34m(\u001b[0m\u001b[0mself\u001b[0m\u001b[0;34m)\u001b[0m\u001b[0;34m:\u001b[0m\u001b[0;34m\u001b[0m\u001b[0;34m\u001b[0m\u001b[0m\n",
      "\u001b[0;32m~/Library/Caches/pypoetry/virtualenvs/automl-iasd-hDSaXVei-py3.9/lib/python3.9/site-packages/py4j/java_gateway.py\u001b[0m in \u001b[0;36m__call__\u001b[0;34m(self, *args)\u001b[0m\n\u001b[1;32m   1301\u001b[0m             \u001b[0mproto\u001b[0m\u001b[0;34m.\u001b[0m\u001b[0mEND_COMMAND_PART\u001b[0m\u001b[0;34m\u001b[0m\u001b[0;34m\u001b[0m\u001b[0m\n\u001b[1;32m   1302\u001b[0m \u001b[0;34m\u001b[0m\u001b[0m\n\u001b[0;32m-> 1303\u001b[0;31m         \u001b[0manswer\u001b[0m \u001b[0;34m=\u001b[0m \u001b[0mself\u001b[0m\u001b[0;34m.\u001b[0m\u001b[0mgateway_client\u001b[0m\u001b[0;34m.\u001b[0m\u001b[0msend_command\u001b[0m\u001b[0;34m(\u001b[0m\u001b[0mcommand\u001b[0m\u001b[0;34m)\u001b[0m\u001b[0;34m\u001b[0m\u001b[0;34m\u001b[0m\u001b[0m\n\u001b[0m\u001b[1;32m   1304\u001b[0m         return_value = get_return_value(\n\u001b[1;32m   1305\u001b[0m             answer, self.gateway_client, self.target_id, self.name)\n",
      "\u001b[0;32m~/Library/Caches/pypoetry/virtualenvs/automl-iasd-hDSaXVei-py3.9/lib/python3.9/site-packages/py4j/java_gateway.py\u001b[0m in \u001b[0;36msend_command\u001b[0;34m(self, command, retry, binary)\u001b[0m\n\u001b[1;32m   1031\u001b[0m         \u001b[0mconnection\u001b[0m \u001b[0;34m=\u001b[0m \u001b[0mself\u001b[0m\u001b[0;34m.\u001b[0m\u001b[0m_get_connection\u001b[0m\u001b[0;34m(\u001b[0m\u001b[0;34m)\u001b[0m\u001b[0;34m\u001b[0m\u001b[0;34m\u001b[0m\u001b[0m\n\u001b[1;32m   1032\u001b[0m         \u001b[0;32mtry\u001b[0m\u001b[0;34m:\u001b[0m\u001b[0;34m\u001b[0m\u001b[0;34m\u001b[0m\u001b[0m\n\u001b[0;32m-> 1033\u001b[0;31m             \u001b[0mresponse\u001b[0m \u001b[0;34m=\u001b[0m \u001b[0mconnection\u001b[0m\u001b[0;34m.\u001b[0m\u001b[0msend_command\u001b[0m\u001b[0;34m(\u001b[0m\u001b[0mcommand\u001b[0m\u001b[0;34m)\u001b[0m\u001b[0;34m\u001b[0m\u001b[0;34m\u001b[0m\u001b[0m\n\u001b[0m\u001b[1;32m   1034\u001b[0m             \u001b[0;32mif\u001b[0m \u001b[0mbinary\u001b[0m\u001b[0;34m:\u001b[0m\u001b[0;34m\u001b[0m\u001b[0;34m\u001b[0m\u001b[0m\n\u001b[1;32m   1035\u001b[0m                 \u001b[0;32mreturn\u001b[0m \u001b[0mresponse\u001b[0m\u001b[0;34m,\u001b[0m \u001b[0mself\u001b[0m\u001b[0;34m.\u001b[0m\u001b[0m_create_connection_guard\u001b[0m\u001b[0;34m(\u001b[0m\u001b[0mconnection\u001b[0m\u001b[0;34m)\u001b[0m\u001b[0;34m\u001b[0m\u001b[0;34m\u001b[0m\u001b[0m\n",
      "\u001b[0;32m~/Library/Caches/pypoetry/virtualenvs/automl-iasd-hDSaXVei-py3.9/lib/python3.9/site-packages/py4j/java_gateway.py\u001b[0m in \u001b[0;36msend_command\u001b[0;34m(self, command)\u001b[0m\n\u001b[1;32m   1198\u001b[0m \u001b[0;34m\u001b[0m\u001b[0m\n\u001b[1;32m   1199\u001b[0m         \u001b[0;32mtry\u001b[0m\u001b[0;34m:\u001b[0m\u001b[0;34m\u001b[0m\u001b[0;34m\u001b[0m\u001b[0m\n\u001b[0;32m-> 1200\u001b[0;31m             \u001b[0manswer\u001b[0m \u001b[0;34m=\u001b[0m \u001b[0msmart_decode\u001b[0m\u001b[0;34m(\u001b[0m\u001b[0mself\u001b[0m\u001b[0;34m.\u001b[0m\u001b[0mstream\u001b[0m\u001b[0;34m.\u001b[0m\u001b[0mreadline\u001b[0m\u001b[0;34m(\u001b[0m\u001b[0;34m)\u001b[0m\u001b[0;34m[\u001b[0m\u001b[0;34m:\u001b[0m\u001b[0;34m-\u001b[0m\u001b[0;36m1\u001b[0m\u001b[0;34m]\u001b[0m\u001b[0;34m)\u001b[0m\u001b[0;34m\u001b[0m\u001b[0;34m\u001b[0m\u001b[0m\n\u001b[0m\u001b[1;32m   1201\u001b[0m             \u001b[0mlogger\u001b[0m\u001b[0;34m.\u001b[0m\u001b[0mdebug\u001b[0m\u001b[0;34m(\u001b[0m\u001b[0;34m\"Answer received: {0}\"\u001b[0m\u001b[0;34m.\u001b[0m\u001b[0mformat\u001b[0m\u001b[0;34m(\u001b[0m\u001b[0manswer\u001b[0m\u001b[0;34m)\u001b[0m\u001b[0;34m)\u001b[0m\u001b[0;34m\u001b[0m\u001b[0;34m\u001b[0m\u001b[0m\n\u001b[1;32m   1202\u001b[0m             \u001b[0;32mif\u001b[0m \u001b[0manswer\u001b[0m\u001b[0;34m.\u001b[0m\u001b[0mstartswith\u001b[0m\u001b[0;34m(\u001b[0m\u001b[0mproto\u001b[0m\u001b[0;34m.\u001b[0m\u001b[0mRETURN_MESSAGE\u001b[0m\u001b[0;34m)\u001b[0m\u001b[0;34m:\u001b[0m\u001b[0;34m\u001b[0m\u001b[0;34m\u001b[0m\u001b[0m\n",
      "\u001b[0;32m/usr/local/Cellar/python@3.9/3.9.4/Frameworks/Python.framework/Versions/3.9/lib/python3.9/socket.py\u001b[0m in \u001b[0;36mreadinto\u001b[0;34m(self, b)\u001b[0m\n\u001b[1;32m    702\u001b[0m         \u001b[0;32mwhile\u001b[0m \u001b[0;32mTrue\u001b[0m\u001b[0;34m:\u001b[0m\u001b[0;34m\u001b[0m\u001b[0;34m\u001b[0m\u001b[0m\n\u001b[1;32m    703\u001b[0m             \u001b[0;32mtry\u001b[0m\u001b[0;34m:\u001b[0m\u001b[0;34m\u001b[0m\u001b[0;34m\u001b[0m\u001b[0m\n\u001b[0;32m--> 704\u001b[0;31m                 \u001b[0;32mreturn\u001b[0m \u001b[0mself\u001b[0m\u001b[0;34m.\u001b[0m\u001b[0m_sock\u001b[0m\u001b[0;34m.\u001b[0m\u001b[0mrecv_into\u001b[0m\u001b[0;34m(\u001b[0m\u001b[0mb\u001b[0m\u001b[0;34m)\u001b[0m\u001b[0;34m\u001b[0m\u001b[0;34m\u001b[0m\u001b[0m\n\u001b[0m\u001b[1;32m    705\u001b[0m             \u001b[0;32mexcept\u001b[0m \u001b[0mtimeout\u001b[0m\u001b[0;34m:\u001b[0m\u001b[0;34m\u001b[0m\u001b[0;34m\u001b[0m\u001b[0m\n\u001b[1;32m    706\u001b[0m                 \u001b[0mself\u001b[0m\u001b[0;34m.\u001b[0m\u001b[0m_timeout_occurred\u001b[0m \u001b[0;34m=\u001b[0m \u001b[0;32mTrue\u001b[0m\u001b[0;34m\u001b[0m\u001b[0;34m\u001b[0m\u001b[0m\n",
      "\u001b[0;31mKeyboardInterrupt\u001b[0m: "
     ]
    },
    {
     "name": "stderr",
     "output_type": "stream",
     "text": [
      "                                                                                \r"
     ]
    }
   ],
   "source": [
    "### airlines, logistic regression, n=[0,1,2,3], iterations=50\n",
    "airlines_level_score_time = []\n",
    "list_of_params = []\n",
    "label_column_name = \"Delay\"\n",
    "to_avg_iterations = 3\n",
    "pipeline = IASDAutoML(budget=2, dataframe=airlines_dataframe, label_column_name=label_column_name)\n",
    "generated_train_df, generated_val_df, columns_to_featurized, selection_initial_uniform_policy, categorical_columns_to_encode = pipeline.generate_dataframe_for_selection()\n",
    "\n",
    "for algorithm in pipeline.classification_algorithms:\n",
    "    algorithm_name = str(algorithm).split(\"_\")[0]\n",
    "    algorithm.setLabelCol(label_column_name)\n",
    "    print(f\"AutoFE : Feature selection - Selecting the best subset of features for {algorithm_name}... \")\n",
    "    \n",
    "    if algorithm_name == \"DecisionTreeClassifier\" or algorithm_name == \"RandomForestClassifier\":\n",
    "        algorithm.setLabelCol(\"indexedLabel\")\n",
    "        print(\"ok\")\n",
    "        maximum_number_of_categories = get_max_count_distinct(generated_val_df, categorical_columns_to_encode)\n",
    "        algorithm.setMaxBins(maximum_number_of_categories)\n",
    "        \n",
    "    for level in range(3):\n",
    "        score = []\n",
    "        time = []\n",
    "        params = {}\n",
    "        for n in range(to_avg_iterations):\n",
    "            start = timer()\n",
    "            bestScore, feature_selection = nrpa_feature_selector(0, 50, generated_train_df, generated_val_df, len(columns_to_featurized), algorithm, selection_initial_uniform_policy)\n",
    "            feature_selection_indices = [i for i in range(len(feature_selection)) if feature_selection[i]==\"Keep\"]\n",
    "            score.append(bestScore)\n",
    "            end = timer()\n",
    "            time.append(end-start)\n",
    "            print(end - start) # Time in seconds \n",
    "        airlines_level_score_time.append([f\"{algorithm_name}\", level, average(score), average(time)])\n",
    "        params.update({level: score})\n",
    "    list_of_params.append([algorithm_name, params])\n",
    "        \n",
    "### airlines, RandomForest, n=0\n",
    "\n",
    "### airlines, RandomForest, n=1\n",
    "\n",
    "### airlines, RandomForest, n=2\n",
    "\n",
    "### airlines, RandomForest, n=3\n",
    "\n",
    "### airlines, DecisionTree, n=0\n",
    "\n",
    "### airlines, DecisionTree, n=1\n",
    "\n",
    "### airlines, DecisionTree, n=2\n",
    "\n",
    "### airlines, DecisionTree, n=3\n",
    "\n",
    "### airlines, MultiLayerPerceptron, n=0\n",
    "\n",
    "### airlines, MultiLayerPerceptron, n=1\n",
    "\n",
    "### airlines, MultiLayerPerceptron, n=2\n",
    "\n",
    "### airlines, MultiLayerPerceptron, n=3\n",
    "\n",
    "### airlines, NaiveBayes, n=0\n",
    "\n",
    "### airlines, NaiveBayes, n=1\n",
    "\n",
    "### airlines, NaiveBayes, n=2\n",
    "b\n",
    "### airlines, NaiveBayes, n=3\n"
   ]
  },
  {
   "cell_type": "code",
   "execution_count": 17,
   "id": "8f3fea70-18ae-4238-8fbf-c19e55b51eae",
   "metadata": {},
   "outputs": [],
   "source": [
    "df = pd.DataFrame(list_of_params[0][1])"
   ]
  },
  {
   "cell_type": "code",
   "execution_count": 14,
   "id": "82a607c5-3124-4b5f-9859-a659bc9e3309",
   "metadata": {},
   "outputs": [],
   "source": [
    "baseline_score = 0.6"
   ]
  },
  {
   "cell_type": "code",
   "execution_count": 22,
   "id": "6ce9cf18-d695-44a5-b329-b75c816dfbaa",
   "metadata": {},
   "outputs": [
    {
     "data": {
      "image/png": "[encoded data removed]",
      "text/plain": [
       "<Figure size 1080x432 with 1 Axes>"
      ]
     },
     "metadata": {
      "needs_background": "light"
     },
     "output_type": "display_data"
    }
   ],
   "source": [
    "fig, ax = plt.subplots(1, 1, figsize=(15, 6))\n",
    "ax.set_xlim(0, 1)\n",
    "ax.set_title(f\"{list_of_params[0][0]} result on airlines dataset\")\n",
    "\n",
    "sns.kdeplot(data=df, x=2, ax=ax, label=f'n=0')\n",
    "sns.kdeplot(data=df, x=2, ax=ax, label=f'n=1')\n",
    "sns.kdeplot(data=df, x=2, ax=ax, label=f'n=2')\n",
    "sns.kdeplot(data=df, x=2, ax=ax, label=f'n=3')\n",
    "\n",
    "ax.set_xticks([x/10 for x in range(10)])\n",
    "ax.set_xlabel('AUC')\n",
    "\n",
    "ax.vlines(x=baseline_score, ymin=0, ymax=5, color='black')\n",
    "ax.text(baseline_score, 0.3, 'Baseline AUC')\n",
    "ax.legend();"
   ]
  }
 ],
 "metadata": {
  "kernelspec": {
   "display_name": "Python 3 (ipykernel)",
   "language": "python",
   "name": "python3"
  },
  "language_info": {
   "codemirror_mode": {
    "name": "ipython",
    "version": 3
   },
   "file_extension": ".py",
   "mimetype": "text/x-python",
   "name": "python",
   "nbconvert_exporter": "python",
   "pygments_lexer": "ipython3",
   "version": "3.9.7"
  }
 },
 "nbformat": 4,
 "nbformat_minor": 5
}
